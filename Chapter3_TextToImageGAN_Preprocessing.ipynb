{
  "cells": [
    {
      "cell_type": "markdown",
      "source": [
        "This jupyter notebook presents the preprocessing steps for text to image GANs. This could be applied to any dataset with images and captions. This is an essential step if the dataset of images and text is not represenced with pixels for images and numerical representation for text as in case of MNIST fashion. The preprocessing is applied on flickr8k dataset."
      ],
      "metadata": {
        "id": "kADMbRKPbZWK"
      }
    },
    {
      "cell_type": "markdown",
      "metadata": {
        "id": "nycCZ8EIyPQS"
      },
      "source": [
        "# Import Required Modules"
      ]
    },
    {
      "cell_type": "code",
      "execution_count": 5,
      "metadata": {
        "colab": {
          "base_uri": "https://localhost:8080/"
        },
        "id": "pg4_Yw1_wUml",
        "outputId": "52979c7b-5ebb-4992-9486-9f0b91c26969"
      },
      "outputs": [
        {
          "output_type": "stream",
          "name": "stderr",
          "text": [
            "[nltk_data] Downloading package wordnet to /root/nltk_data...\n",
            "[nltk_data]   Package wordnet is already up-to-date!\n",
            "[nltk_data] Downloading package stopwords to /root/nltk_data...\n",
            "[nltk_data]   Package stopwords is already up-to-date!\n"
          ]
        }
      ],
      "source": [
        "# Import Tokenizer module to transform text data to numerical format\n",
        "from tensorflow.keras.preprocessing.text import Tokenizer\n",
        "# Import pad_sequences to make all numerical input to same size\n",
        "from tensorflow.keras.preprocessing.sequence import pad_sequences\n",
        "# Import the Natural Language Toolkit (nltk) for text processing\n",
        "import nltk\n",
        "# Download the required datasets from nltk\n",
        "nltk.download('wordnet')\n",
        "nltk.download('stopwords')\n",
        "# Import stopwords from nltk\n",
        "from nltk.corpus import stopwords\n",
        "# Import lemmatizer from nltk\n",
        "from nltk.stem.wordnet import WordNetLemmatizer \n",
        "# Import string module for processing text\n",
        "import string\n",
        "# Import image preprocessing functions from Keras\n",
        "from tensorflow.keras.preprocessing.image import img_to_array, load_img\n",
        "# Import Image from PIL for image processing\n",
        "from PIL import Image\n",
        "# Import matplotlib for plotting\n",
        "import matplotlib.pyplot as plt\n",
        "# Import glob for matching file patterns\n",
        "from glob import glob\n",
        "# Import Path for file system operations\n",
        "from pathlib import Path"
      ]
    },
    {
      "cell_type": "markdown",
      "metadata": {
        "id": "gP7-7MRXANu2"
      },
      "source": [
        "# Download the dataset from kaggle"
      ]
    },
    {
      "cell_type": "code",
      "execution_count": 4,
      "metadata": {
        "id": "0UCPNGV1QW9O"
      },
      "outputs": [],
      "source": [
        "#steps found in \"https://www.kaggle.com/general/74235\"\n",
        "! pip install -q kaggle\n",
        "! mkdir ~/.kaggle\n",
        "! cp kaggle.json ~/.kaggle/\n",
        "! chmod 600 ~/.kaggle/kaggle.json\n",
        "! kaggle datasets download adityajn105/flickr8k"
      ]
    },
    {
      "cell_type": "markdown",
      "metadata": {
        "id": "7na0rflQAmmQ"
      },
      "source": [
        "# Unzip Dataset"
      ]
    },
    {
      "cell_type": "code",
      "execution_count": null,
      "metadata": {
        "id": "sgSIE0ZHApB2"
      },
      "outputs": [],
      "source": [
        "!unzip -q \"/content/flickr8k.zip\" -d \"/content/\""
      ]
    },
    {
      "cell_type": "markdown",
      "metadata": {
        "id": "RETJk2fa-nnP"
      },
      "source": [
        "# Load Images and Captions"
      ]
    },
    {
      "cell_type": "markdown",
      "source": [
        "## Load Images"
      ],
      "metadata": {
        "id": "qLK-8tZMcj5M"
      }
    },
    {
      "cell_type": "code",
      "source": [
        "all_image_data = []\n",
        "image_id_all = []\n",
        "width, height = 224, 224\n",
        "# Enumerate over all image files\n",
        "for image_file in glob('/content/Images/*.jpg'):\n",
        "  # Save all image file names in a list named “image id”\n",
        "  image_id_all.append(Path(image_file).name.split(\".\")[0])\n",
        "  # Open image file and save it in a variable\n",
        "  single_image = Image.open(image_file)\n",
        "  # Reshape image file to 224*224\n",
        "  single_image = single_image.resize((width, height))\n",
        "  # Transform image to a numerical array of pixels\n",
        "  img = img_to_array(single_image)\n",
        "  # Normalize images between 0 and 1\n",
        "  img = img / 255\n",
        "  # Save all image features in a list\n",
        "  all_image_data.append(img)\n",
        "  \n",
        "# Save image features and their corresponding names (id’s) in a dictionary\n",
        "mapped = dict(zip(image_id_all, all_image_data))"
      ],
      "metadata": {
        "id": "UvLFQu_kcjDF"
      },
      "execution_count": null,
      "outputs": []
    },
    {
      "cell_type": "markdown",
      "source": [
        "## Load Captions"
      ],
      "metadata": {
        "id": "0Y3SOFx5c6DW"
      }
    },
    {
      "cell_type": "code",
      "source": [
        "# Load corresponding text labels file\n",
        "text = pd.read_csv(\"captions.txt\", sep=\",\")\n",
        "\n",
        "# Split the image column to two columns to have the image name in a column as id\n",
        "text[['image_id', 'extension']] = text['image'].apply(lambda x: pd.Series(str(x).split(\".\")))\n",
        "text = text.drop(['image', 'extension'], axis = 1)"
      ],
      "metadata": {
        "id": "0bCdU7mtc2e6"
      },
      "execution_count": null,
      "outputs": []
    },
    {
      "cell_type": "markdown",
      "source": [
        "## Map each label with its corresponding image"
      ],
      "metadata": {
        "id": "a0sW60iIdDis"
      }
    },
    {
      "cell_type": "code",
      "execution_count": null,
      "metadata": {
        "id": "588MnoOaxSr4"
      },
      "outputs": [],
      "source": [
        "# Define an empty list to store ordered image\n",
        "real_images = []\n",
        "# Enumerate over image ID\n",
        "for id in text['image_id']:\n",
        "  # For each id save the corresponding image in the real_images list\n",
        "  real_images.append(mapped[id])"
      ]
    },
    {
      "cell_type": "markdown",
      "source": [
        "# Preprocess Captions"
      ],
      "metadata": {
        "id": "Y_OKc71ddcFR"
      }
    },
    {
      "cell_type": "markdown",
      "source": [
        "## Clean Text"
      ],
      "metadata": {
        "id": "019dRAQ4dnON"
      }
    },
    {
      "cell_type": "code",
      "source": [
        "stop_words = set(stopwords.words(\"english\"))\n",
        "def preprocess_text(text):\n",
        "  # Remove punctuation from the text\n",
        "  text = text.translate(str.maketrans(\"\", \"\", string.punctuation))\n",
        "  # Convert to lowercase\n",
        "  text = text.lower()\n",
        "  # Tokenize the text\n",
        "   tokens = word_tokenize(text)\n",
        "   # Remove stop words\n",
        "   tokens = [token for token in tokens if token not in stop_words]\n",
        "   # Initialize the lemmatizer\n",
        "   lemmatizer = WordNetLemmatizer()\n",
        "   # Lemmatize and stem each token\n",
        "   lemmatized_tokens = [lemmatizer.lemmatize(token) for token in tokens]\n",
        "   return 'startseq ' + \" \".join(lemmatized_tokens)+ ' endseq'"
      ],
      "metadata": {
        "id": "8Qr4Gx3Qdity"
      },
      "execution_count": null,
      "outputs": []
    },
    {
      "cell_type": "code",
      "execution_count": null,
      "metadata": {
        "colab": {
          "base_uri": "https://localhost:8080/",
          "height": 363
        },
        "id": "sb9AicwX1X6K",
        "outputId": "b734e891-79fb-42f7-c6a5-632b275fa3fa"
      },
      "outputs": [
        {
          "output_type": "execute_result",
          "data": {
            "text/plain": [
              "                                             caption               image_id  \\\n",
              "0  A child in a pink dress is climbing up a set o...  1000268201_693b08cb0e   \n",
              "1              A girl going into a wooden building .  1000268201_693b08cb0e   \n",
              "2   A little girl climbing into a wooden playhouse .  1000268201_693b08cb0e   \n",
              "3  A little girl climbing the stairs to her playh...  1000268201_693b08cb0e   \n",
              "4  A little girl in a pink dress going into a woo...  1000268201_693b08cb0e   \n",
              "5         A black dog and a spotted dog are fighting  1001773457_577c3a7d70   \n",
              "6  A black dog and a tri-colored dog playing with...  1001773457_577c3a7d70   \n",
              "7  A black dog and a white dog with brown spots a...  1001773457_577c3a7d70   \n",
              "8  Two dogs of different breeds looking at each o...  1001773457_577c3a7d70   \n",
              "9    Two dogs on pavement moving toward each other .  1001773457_577c3a7d70   \n",
              "\n",
              "                               preprocessed_captions  \n",
              "0  startseq child pink dress climbing set stair e...  \n",
              "1         startseq girl going wooden building endseq  \n",
              "2  startseq little girl climbing wooden playhouse...  \n",
              "3  startseq little girl climbing stair playhouse ...  \n",
              "4  startseq little girl pink dress going wooden c...  \n",
              "5     startseq black dog spotted dog fighting endseq  \n",
              "6  startseq black dog tricolored dog playing road...  \n",
              "7  startseq black dog white dog brown spot starin...  \n",
              "8  startseq two dog different breed looking road ...  \n",
              "9     startseq two dog pavement moving toward endseq  "
            ],
            "text/html": [
              "\n",
              "  <div id=\"df-7bd9b9da-e072-47b9-8e3e-79112e401688\">\n",
              "    <div class=\"colab-df-container\">\n",
              "      <div>\n",
              "<style scoped>\n",
              "    .dataframe tbody tr th:only-of-type {\n",
              "        vertical-align: middle;\n",
              "    }\n",
              "\n",
              "    .dataframe tbody tr th {\n",
              "        vertical-align: top;\n",
              "    }\n",
              "\n",
              "    .dataframe thead th {\n",
              "        text-align: right;\n",
              "    }\n",
              "</style>\n",
              "<table border=\"1\" class=\"dataframe\">\n",
              "  <thead>\n",
              "    <tr style=\"text-align: right;\">\n",
              "      <th></th>\n",
              "      <th>caption</th>\n",
              "      <th>image_id</th>\n",
              "      <th>preprocessed_captions</th>\n",
              "    </tr>\n",
              "  </thead>\n",
              "  <tbody>\n",
              "    <tr>\n",
              "      <th>0</th>\n",
              "      <td>A child in a pink dress is climbing up a set o...</td>\n",
              "      <td>1000268201_693b08cb0e</td>\n",
              "      <td>startseq child pink dress climbing set stair e...</td>\n",
              "    </tr>\n",
              "    <tr>\n",
              "      <th>1</th>\n",
              "      <td>A girl going into a wooden building .</td>\n",
              "      <td>1000268201_693b08cb0e</td>\n",
              "      <td>startseq girl going wooden building endseq</td>\n",
              "    </tr>\n",
              "    <tr>\n",
              "      <th>2</th>\n",
              "      <td>A little girl climbing into a wooden playhouse .</td>\n",
              "      <td>1000268201_693b08cb0e</td>\n",
              "      <td>startseq little girl climbing wooden playhouse...</td>\n",
              "    </tr>\n",
              "    <tr>\n",
              "      <th>3</th>\n",
              "      <td>A little girl climbing the stairs to her playh...</td>\n",
              "      <td>1000268201_693b08cb0e</td>\n",
              "      <td>startseq little girl climbing stair playhouse ...</td>\n",
              "    </tr>\n",
              "    <tr>\n",
              "      <th>4</th>\n",
              "      <td>A little girl in a pink dress going into a woo...</td>\n",
              "      <td>1000268201_693b08cb0e</td>\n",
              "      <td>startseq little girl pink dress going wooden c...</td>\n",
              "    </tr>\n",
              "    <tr>\n",
              "      <th>5</th>\n",
              "      <td>A black dog and a spotted dog are fighting</td>\n",
              "      <td>1001773457_577c3a7d70</td>\n",
              "      <td>startseq black dog spotted dog fighting endseq</td>\n",
              "    </tr>\n",
              "    <tr>\n",
              "      <th>6</th>\n",
              "      <td>A black dog and a tri-colored dog playing with...</td>\n",
              "      <td>1001773457_577c3a7d70</td>\n",
              "      <td>startseq black dog tricolored dog playing road...</td>\n",
              "    </tr>\n",
              "    <tr>\n",
              "      <th>7</th>\n",
              "      <td>A black dog and a white dog with brown spots a...</td>\n",
              "      <td>1001773457_577c3a7d70</td>\n",
              "      <td>startseq black dog white dog brown spot starin...</td>\n",
              "    </tr>\n",
              "    <tr>\n",
              "      <th>8</th>\n",
              "      <td>Two dogs of different breeds looking at each o...</td>\n",
              "      <td>1001773457_577c3a7d70</td>\n",
              "      <td>startseq two dog different breed looking road ...</td>\n",
              "    </tr>\n",
              "    <tr>\n",
              "      <th>9</th>\n",
              "      <td>Two dogs on pavement moving toward each other .</td>\n",
              "      <td>1001773457_577c3a7d70</td>\n",
              "      <td>startseq two dog pavement moving toward endseq</td>\n",
              "    </tr>\n",
              "  </tbody>\n",
              "</table>\n",
              "</div>\n",
              "      <button class=\"colab-df-convert\" onclick=\"convertToInteractive('df-7bd9b9da-e072-47b9-8e3e-79112e401688')\"\n",
              "              title=\"Convert this dataframe to an interactive table.\"\n",
              "              style=\"display:none;\">\n",
              "        \n",
              "  <svg xmlns=\"http://www.w3.org/2000/svg\" height=\"24px\"viewBox=\"0 0 24 24\"\n",
              "       width=\"24px\">\n",
              "    <path d=\"M0 0h24v24H0V0z\" fill=\"none\"/>\n",
              "    <path d=\"M18.56 5.44l.94 2.06.94-2.06 2.06-.94-2.06-.94-.94-2.06-.94 2.06-2.06.94zm-11 1L8.5 8.5l.94-2.06 2.06-.94-2.06-.94L8.5 2.5l-.94 2.06-2.06.94zm10 10l.94 2.06.94-2.06 2.06-.94-2.06-.94-.94-2.06-.94 2.06-2.06.94z\"/><path d=\"M17.41 7.96l-1.37-1.37c-.4-.4-.92-.59-1.43-.59-.52 0-1.04.2-1.43.59L10.3 9.45l-7.72 7.72c-.78.78-.78 2.05 0 2.83L4 21.41c.39.39.9.59 1.41.59.51 0 1.02-.2 1.41-.59l7.78-7.78 2.81-2.81c.8-.78.8-2.07 0-2.86zM5.41 20L4 18.59l7.72-7.72 1.47 1.35L5.41 20z\"/>\n",
              "  </svg>\n",
              "      </button>\n",
              "      \n",
              "  <style>\n",
              "    .colab-df-container {\n",
              "      display:flex;\n",
              "      flex-wrap:wrap;\n",
              "      gap: 12px;\n",
              "    }\n",
              "\n",
              "    .colab-df-convert {\n",
              "      background-color: #E8F0FE;\n",
              "      border: none;\n",
              "      border-radius: 50%;\n",
              "      cursor: pointer;\n",
              "      display: none;\n",
              "      fill: #1967D2;\n",
              "      height: 32px;\n",
              "      padding: 0 0 0 0;\n",
              "      width: 32px;\n",
              "    }\n",
              "\n",
              "    .colab-df-convert:hover {\n",
              "      background-color: #E2EBFA;\n",
              "      box-shadow: 0px 1px 2px rgba(60, 64, 67, 0.3), 0px 1px 3px 1px rgba(60, 64, 67, 0.15);\n",
              "      fill: #174EA6;\n",
              "    }\n",
              "\n",
              "    [theme=dark] .colab-df-convert {\n",
              "      background-color: #3B4455;\n",
              "      fill: #D2E3FC;\n",
              "    }\n",
              "\n",
              "    [theme=dark] .colab-df-convert:hover {\n",
              "      background-color: #434B5C;\n",
              "      box-shadow: 0px 1px 3px 1px rgba(0, 0, 0, 0.15);\n",
              "      filter: drop-shadow(0px 1px 2px rgba(0, 0, 0, 0.3));\n",
              "      fill: #FFFFFF;\n",
              "    }\n",
              "  </style>\n",
              "\n",
              "      <script>\n",
              "        const buttonEl =\n",
              "          document.querySelector('#df-7bd9b9da-e072-47b9-8e3e-79112e401688 button.colab-df-convert');\n",
              "        buttonEl.style.display =\n",
              "          google.colab.kernel.accessAllowed ? 'block' : 'none';\n",
              "\n",
              "        async function convertToInteractive(key) {\n",
              "          const element = document.querySelector('#df-7bd9b9da-e072-47b9-8e3e-79112e401688');\n",
              "          const dataTable =\n",
              "            await google.colab.kernel.invokeFunction('convertToInteractive',\n",
              "                                                     [key], {});\n",
              "          if (!dataTable) return;\n",
              "\n",
              "          const docLinkHtml = 'Like what you see? Visit the ' +\n",
              "            '<a target=\"_blank\" href=https://colab.research.google.com/notebooks/data_table.ipynb>data table notebook</a>'\n",
              "            + ' to learn more about interactive tables.';\n",
              "          element.innerHTML = '';\n",
              "          dataTable['output_type'] = 'display_data';\n",
              "          await google.colab.output.renderOutput(dataTable, element);\n",
              "          const docLink = document.createElement('div');\n",
              "          docLink.innerHTML = docLinkHtml;\n",
              "          element.appendChild(docLink);\n",
              "        }\n",
              "      </script>\n",
              "    </div>\n",
              "  </div>\n",
              "  "
            ]
          },
          "metadata": {},
          "execution_count": 7
        }
      ],
      "source": [
        "# Apply the processing function to captions column in the DataFrame\n",
        "text[\"preprocessed_captions\"] = text[\"caption\"].apply(preprocess_text)\n",
        "text.head(10)"
      ]
    },
    {
      "cell_type": "markdown",
      "source": [
        "## Transform text into numerical representations"
      ],
      "metadata": {
        "id": "taSjGoM2dyzu"
      }
    },
    {
      "cell_type": "code",
      "source": [
        "def text_preprocessing(data):\n",
        "  # Count the number of unique words\n",
        "  tokenizer = Tokenizer(num_words=None, lower=True, split=' ')\n",
        "  tokenizer.fit_on_texts(data)\n",
        "  num_words = len(tokenizer.word_index) + 1\n",
        "  # Find the length of the longest sentence\n",
        "  max_length = max([len(s.split()) for s in data])\n",
        "  # Tokenize the sentences and pad the sequences\n",
        "  tokenized_data = tokenizer.texts_to_sequences(data)\n",
        "  padded_data = pad_sequences(tokenized_data, maxlen=max_length, padding='post')\n",
        "  return padded_data, num_words, max_length, tokenizer"
      ],
      "metadata": {
        "id": "rQdRoMr0hfFw"
      },
      "execution_count": null,
      "outputs": []
    },
    {
      "cell_type": "code",
      "execution_count": null,
      "metadata": {
        "id": "y00V5RN_9J3N"
      },
      "outputs": [],
      "source": [
        "# Apply the function to a dataframe column\n",
        "data = text[\"preprocessed_captions\"].values\n",
        "padded_data, num_words, max_length, tokenizer= text_preprocessing(data)"
      ]
    }
  ],
  "metadata": {
    "colab": {
      "machine_shape": "hm",
      "provenance": []
    },
    "gpuClass": "standard",
    "kernelspec": {
      "display_name": "Python 3",
      "name": "python3"
    },
    "language_info": {
      "name": "python"
    }
  },
  "nbformat": 4,
  "nbformat_minor": 0
}

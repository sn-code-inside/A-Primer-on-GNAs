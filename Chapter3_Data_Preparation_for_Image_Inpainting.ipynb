{
  "nbformat": 4,
  "nbformat_minor": 0,
  "metadata": {
    "colab": {
      "provenance": []
    },
    "kernelspec": {
      "name": "python3",
      "display_name": "Python 3"
    },
    "language_info": {
      "name": "python"
    }
  },
  "cells": [
    {
      "cell_type": "markdown",
      "source": [
        "This jupyter notebook presents a code to create a dataset of distirted images for semantic image inpainting using GANs."
      ],
      "metadata": {
        "id": "96U_Q6l5TThF"
      }
    },
    {
      "cell_type": "markdown",
      "source": [
        "# Import required modules"
      ],
      "metadata": {
        "id": "m2tnpdyDTd3-"
      }
    },
    {
      "cell_type": "code",
      "source": [
        "import os\n",
        "from PIL import Image, ImageDraw"
      ],
      "metadata": {
        "id": "BtiyV8XUS6TL"
      },
      "execution_count": 7,
      "outputs": []
    },
    {
      "cell_type": "markdown",
      "source": [
        "# Remove specific region from the image"
      ],
      "metadata": {
        "id": "hg06EbYPTgEl"
      }
    },
    {
      "cell_type": "code",
      "execution_count": 8,
      "metadata": {
        "id": "UXnk2_qxSPA2"
      },
      "outputs": [],
      "source": [
        "# define original and distorted images directories\n",
        "original_directory = str(\"/content/\")\n",
        "distorted_directory = str(\"/content/distorted/\")\n",
        "# Define the percentage of image to be removed\n",
        "region_scale = 0.15\n",
        "# Save existing files in the target directory in a list\n",
        "all_files = os.listdir(distorted_directory)\n",
        "# Enumerate over all files in source directory\n",
        "for filename in os.listdir(original_directory):\n",
        "  # Take only image files\n",
        "  if filename.endswith('.png'):\n",
        "    # Open image files\n",
        "    img = Image.open(original_directory + filename)\n",
        "    # Get image dimensions\n",
        "    width, height = img.size\n",
        "    # Scale the box size that based on image dimensions \n",
        "    box = round(min(width,height) * region_scale)\n",
        "    # Name the distorted image file \n",
        "    distorted_filename = filename.replace('.png','') + '_distorted' + '.png'\n",
        "    # Process only unprocessed files \n",
        "    if (distorted_filename) not in all_files: \n",
        "      # Set row number to place the box\n",
        "      row = 2\n",
        "      # Set column number to place the box\n",
        "      column = 4\n",
        "      # Define box dimension\n",
        "      box_size = box\n",
        "      # Define box starting coordinates\n",
        "      x_side = round(box*0.8) + (box * column)\n",
        "      y_side = round(box*0.8) + (box * row)\n",
        "      # Define box coordinates\n",
        "      shape = [(x_side, y_side), (x_side + box_size, y_side + box_size)]\n",
        "      # Draw the source image\n",
        "      img1 = ImageDraw.Draw(img)\n",
        "      # Remove a the desired region from the source image\n",
        "      img1.rectangle(shape, fill = 0)\n",
        "      # Save the distorted image \n",
        "      img.save(distorted_directory + distorted_filename)\n"
      ]
    }
  ]
}

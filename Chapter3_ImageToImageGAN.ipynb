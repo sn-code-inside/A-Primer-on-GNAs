{
  "nbformat": 4,
  "nbformat_minor": 0,
  "metadata": {
    "colab": {
      "provenance": [],
      "machine_shape": "hm"
    },
    "kernelspec": {
      "name": "python3",
      "display_name": "Python 3"
    },
    "language_info": {
      "name": "python"
    },
    "gpuClass": "standard"
  },
  "cells": [
    {
      "cell_type": "markdown",
      "source": [
        "This jupyter notebook presents a straightforward code to build an image to image translation GAN model."
      ],
      "metadata": {
        "id": "drmj0ecVJp4-"
      }
    },
    {
      "cell_type": "markdown",
      "source": [
        "# Import Required Modules"
      ],
      "metadata": {
        "id": "r25FDY6_xiBc"
      }
    },
    {
      "cell_type": "code",
      "source": [
        "import tensorflow as tf\n",
        "from tensorflow.keras.layers import Dense, Conv2D, Conv2DTranspose, BatchNormalization\n",
        "from tensorflow.keras.layers import LeakyReLU, Activation\n",
        "from tensorflow.keras.layers import Flatten, Concatenate\n",
        "from tensorflow.keras.optimizers import Adam\n",
        "from tensorflow.keras import Input, Model\n",
        "from tensorflow.keras.preprocessing.image import img_to_array\n",
        "from tensorflow.keras.callbacks import ModelCheckpoint\n",
        "from PIL import Image\n",
        "\n",
        "import numpy as np\n",
        "import matplotlib.pyplot as plt\n",
        "from glob import glob\n",
        "\n",
        "from google.colab import drive\n",
        "\n",
        "import os"
      ],
      "metadata": {
        "id": "TPkkDd3Gxl96"
      },
      "execution_count": 4,
      "outputs": []
    },
    {
      "cell_type": "markdown",
      "source": [
        "# Data Preparation and Pre-Processing"
      ],
      "metadata": {
        "id": "rtp8Uctm49ss"
      }
    },
    {
      "cell_type": "markdown",
      "source": [
        "## Download the Dataset from Kaggle"
      ],
      "metadata": {
        "id": "ISfxEp6cw-Qe"
      }
    },
    {
      "cell_type": "code",
      "execution_count": null,
      "metadata": {
        "id": "4Ab6jsDVwuUa"
      },
      "outputs": [],
      "source": [
        "#steps found in \"https://www.kaggle.com/general/74235\"\n",
        "! pip install -q kaggle\n",
        "! mkdir ~/.kaggle\n",
        "! cp kaggle.json ~/.kaggle/\n",
        "! chmod 600 ~/.kaggle/kaggle.json\n",
        "! kaggle datasets download dansbecker/cityscapes-image-pairs"
      ]
    },
    {
      "cell_type": "markdown",
      "source": [
        "## Unzip The Dataset"
      ],
      "metadata": {
        "id": "X_tHQZVuxPti"
      }
    },
    {
      "cell_type": "code",
      "source": [
        "!unzip -q \"/content/cityscapes-image-pairs.zip\" -d \"/content/\""
      ],
      "metadata": {
        "id": "HJWHQZMjxO7U"
      },
      "execution_count": null,
      "outputs": []
    },
    {
      "cell_type": "markdown",
      "source": [
        "## load and normalize Data Images"
      ],
      "metadata": {
        "id": "qcetHL8aKPhK"
      }
    },
    {
      "cell_type": "markdown",
      "source": [
        "### Train Images"
      ],
      "metadata": {
        "id": "NdM8OjmmLcDH"
      }
    },
    {
      "cell_type": "code",
      "source": [
        "# Define a list to store source images for training\n",
        "image_data_source = []\n",
        "# Define a list to target source images for training\n",
        "image_data_target = []\n",
        "# Enumerate over all image files in the train folder\n",
        "for image_file in glob('/cityscapes_data/cityscapes_data/train/*.jpg'):\n",
        "  # Open image file\n",
        "  single_image=Image.open(image_file)\n",
        "  # Transform image data into an array\n",
        "  img = img_to_array(single_image)\n",
        "  # Normalize pixel values to the range [0, 1]\n",
        "  img = img / 255.0\n",
        "  # Split the image into two tensors\n",
        "  input_image = img[:, :256, :]\n",
        "  target_image = img[:, 256:, :]\n",
        "  # Save train images in lists\n",
        "  image_data_target.append(target_image)\n",
        "  image_data_source.append(input_image)\n",
        "\n",
        "width, height = 256, 256"
      ],
      "metadata": {
        "id": "dufhRfj14_4N"
      },
      "execution_count": 6,
      "outputs": []
    },
    {
      "cell_type": "markdown",
      "source": [
        "### Test Images"
      ],
      "metadata": {
        "id": "g5fgmcWWLfjn"
      }
    },
    {
      "cell_type": "code",
      "source": [
        "# Define a list to store source images for test\n",
        "image_data_source_test = []\n",
        "# Define a list to target source images for test\n",
        "image_data_target_test = []\n",
        "# Enumerate over all image files in the validation folder\n",
        "for image_file in glob('/content/cityscapes_data/cityscapes_data/val/*.jpg'):\n",
        "  # Open image file\n",
        "  single_image=Image.open(image_file)\n",
        "  # Transform image data into an array\n",
        "  img = img_to_array(single_image)\n",
        "  # normalize pixel values to the range [0, 1]\n",
        "  img = img / 255.0\n",
        "  # split the image into two tensors\n",
        "  input_image = img[:, :256, :]\n",
        "  target_image = img[:, 256:, :]\n",
        "  # Save train images in lists\n",
        "  image_data_target_test.append(input_image)\n",
        "  image_data_source_test.append(target_image)"
      ],
      "metadata": {
        "id": "Tzl5ErezmGPa"
      },
      "execution_count": null,
      "outputs": []
    },
    {
      "cell_type": "markdown",
      "source": [
        "# Plot Sample of Splitted Images"
      ],
      "metadata": {
        "id": "YTWr0CHN_PfR"
      }
    },
    {
      "cell_type": "code",
      "source": [
        "# Define the subplot dimensions\n",
        "fig, axs = plt.subplots(1, 2)\n",
        "# plot source image in axis0\n",
        "axs[0].imshow(image_data_source[0])\n",
        "# plot its corredponding target image in axis1\n",
        "axs[1].imshow(image_data_target[0])\n",
        "axs[0].set_axis_off()\n",
        "axs[1].set_axis_off()\n",
        "plt.show()"
      ],
      "metadata": {
        "colab": {
          "base_uri": "https://localhost:8080/",
          "height": 183
        },
        "id": "ehOr8-Yk_POl",
        "outputId": "4f1d63e5-934d-4964-a654-4e81f28ef0a9"
      },
      "execution_count": null,
      "outputs": [
        {
          "output_type": "display_data",
          "data": {
            "text/plain": [
              "<Figure size 432x288 with 2 Axes>"
            ],
            "image/png": "[encoded data removed]"
          },
          "metadata": {
            "needs_background": "light"
          }
        }
      ]
    },
    {
      "cell_type": "markdown",
      "source": [
        "# Build The Generator"
      ],
      "metadata": {
        "id": "A_ZQ_Y3nAVyt"
      }
    },
    {
      "cell_type": "code",
      "source": [
        "def build_generator():\n",
        "  # Define a list to store encoder output features\n",
        "  encoder_tensor = []\n",
        "  # Define the input shape\n",
        "  inputs = Input(shape=(width, height, 3))\n",
        "\n",
        "  # Define the first layer in encoder model\n",
        "  x = Conv2D(64, (3, 3), strides=(2, 2), padding='same')(inputs)\n",
        "  x = LeakyReLU(alpha=0.2)(x)\n",
        "\n",
        "  # Store the features out from convolution layer\n",
        "  encoder_tensor.append(x)\n",
        "\n",
        "  # Define the rest of the layers in encoder model using for loop\n",
        "  for i in range(3):\n",
        "    # Define the number of channels for the current layer\n",
        "    channels = 2 ** (i + 6)\n",
        "    x = Conv2D(channels, (3, 3), strides=(2, 2), padding='same')(x)\n",
        "    x = BatchNormalization()(x)\n",
        "    x = LeakyReLU(alpha=0.2)(x)\n",
        "    # Append the output tensor to the encoder tensor\n",
        "    encoder_tensor.append(x)\n",
        "\n",
        "  # Define the last layer in encoder model\n",
        "  x = Conv2D(512, (3, 3), strides=(1, 1), padding='same')(x)\n",
        "  x = BatchNormalization()(x)\n",
        "  x = LeakyReLU(alpha=0.2)(x)\n",
        "\n",
        "  # Define the first layer in decoder model\n",
        "  x = Conv2DTranspose(256, (3, 3), strides=(1, 1), padding='same')(x)\n",
        "  x = BatchNormalization()(x)\n",
        "  # Concatenate the output of the current decoder layer with the output of the last encoder layer\n",
        "  x = Concatenate()([x, encoder_tensor[len(encoder_tensor)-1]])\n",
        "  x = LeakyReLU(alpha=0.2)(x)\n",
        "\n",
        "  # Define other layers in decoder model using for loop\n",
        "  for i in range(3):\n",
        "    # Define the number of channels for each layer\n",
        "    channels = 512 // 2 ** (i + 1)\n",
        "    x = Conv2DTranspose(channels, (3, 3), strides=(2, 2), padding='same')(x)\n",
        "    x = BatchNormalization()(x)\n",
        "    x = Concatenate()([x, encoder_tensor[len(encoder_tensor)-2-i]])\n",
        "    x = LeakyReLU(alpha=0.2)(x)\n",
        "\n",
        "  # Define the last layer in decoder model\n",
        "  x = Conv2DTranspose(3, (3, 3), strides=(2, 2), padding='same')(x)\n",
        "\n",
        "  # Add activation layer\n",
        "  outputs = Activation('sigmoid')(x)\n",
        "  \n",
        "  # Define the full encoder-decoder model\n",
        "  encoder_decoder = Model(inputs, outputs)\n",
        "  return encoder_decoder"
      ],
      "metadata": {
        "id": "e9OfBdnbAZDW"
      },
      "execution_count": 2,
      "outputs": []
    },
    {
      "cell_type": "code",
      "source": [
        "generator = build_generator()\n",
        "generator.summary()"
      ],
      "metadata": {
        "colab": {
          "base_uri": "https://localhost:8080/"
        },
        "id": "X3oBaJ3qox3X",
        "outputId": "42140df7-e9ac-4bad-bdfb-5be8d0fcfe25"
      },
      "execution_count": 7,
      "outputs": [
        {
          "output_type": "stream",
          "name": "stdout",
          "text": [
            "Model: \"model\"\n",
            "__________________________________________________________________________________________________\n",
            " Layer (type)                   Output Shape         Param #     Connected to                     \n",
            "==================================================================================================\n",
            " input_1 (InputLayer)           [(None, 256, 256, 3  0           []                               \n",
            "                                )]                                                                \n",
            "                                                                                                  \n",
            " conv2d (Conv2D)                (None, 128, 128, 64  1792        ['input_1[0][0]']                \n",
            "                                )                                                                 \n",
            "                                                                                                  \n",
            " leaky_re_lu (LeakyReLU)        (None, 128, 128, 64  0           ['conv2d[0][0]']                 \n",
            "                                )                                                                 \n",
            "                                                                                                  \n",
            " conv2d_1 (Conv2D)              (None, 64, 64, 64)   36928       ['leaky_re_lu[0][0]']            \n",
            "                                                                                                  \n",
            " batch_normalization (BatchNorm  (None, 64, 64, 64)  256         ['conv2d_1[0][0]']               \n",
            " alization)                                                                                       \n",
            "                                                                                                  \n",
            " leaky_re_lu_1 (LeakyReLU)      (None, 64, 64, 64)   0           ['batch_normalization[0][0]']    \n",
            "                                                                                                  \n",
            " conv2d_2 (Conv2D)              (None, 32, 32, 128)  73856       ['leaky_re_lu_1[0][0]']          \n",
            "                                                                                                  \n",
            " batch_normalization_1 (BatchNo  (None, 32, 32, 128)  512        ['conv2d_2[0][0]']               \n",
            " rmalization)                                                                                     \n",
            "                                                                                                  \n",
            " leaky_re_lu_2 (LeakyReLU)      (None, 32, 32, 128)  0           ['batch_normalization_1[0][0]']  \n",
            "                                                                                                  \n",
            " conv2d_3 (Conv2D)              (None, 16, 16, 256)  295168      ['leaky_re_lu_2[0][0]']          \n",
            "                                                                                                  \n",
            " batch_normalization_2 (BatchNo  (None, 16, 16, 256)  1024       ['conv2d_3[0][0]']               \n",
            " rmalization)                                                                                     \n",
            "                                                                                                  \n",
            " leaky_re_lu_3 (LeakyReLU)      (None, 16, 16, 256)  0           ['batch_normalization_2[0][0]']  \n",
            "                                                                                                  \n",
            " conv2d_4 (Conv2D)              (None, 16, 16, 512)  1180160     ['leaky_re_lu_3[0][0]']          \n",
            "                                                                                                  \n",
            " batch_normalization_3 (BatchNo  (None, 16, 16, 512)  2048       ['conv2d_4[0][0]']               \n",
            " rmalization)                                                                                     \n",
            "                                                                                                  \n",
            " leaky_re_lu_4 (LeakyReLU)      (None, 16, 16, 512)  0           ['batch_normalization_3[0][0]']  \n",
            "                                                                                                  \n",
            " conv2d_transpose (Conv2DTransp  (None, 16, 16, 256)  1179904    ['leaky_re_lu_4[0][0]']          \n",
            " ose)                                                                                             \n",
            "                                                                                                  \n",
            " batch_normalization_4 (BatchNo  (None, 16, 16, 256)  1024       ['conv2d_transpose[0][0]']       \n",
            " rmalization)                                                                                     \n",
            "                                                                                                  \n",
            " concatenate (Concatenate)      (None, 16, 16, 512)  0           ['batch_normalization_4[0][0]',  \n",
            "                                                                  'leaky_re_lu_3[0][0]']          \n",
            "                                                                                                  \n",
            " leaky_re_lu_5 (LeakyReLU)      (None, 16, 16, 512)  0           ['concatenate[0][0]']            \n",
            "                                                                                                  \n",
            " conv2d_transpose_1 (Conv2DTran  (None, 32, 32, 256)  1179904    ['leaky_re_lu_5[0][0]']          \n",
            " spose)                                                                                           \n",
            "                                                                                                  \n",
            " batch_normalization_5 (BatchNo  (None, 32, 32, 256)  1024       ['conv2d_transpose_1[0][0]']     \n",
            " rmalization)                                                                                     \n",
            "                                                                                                  \n",
            " concatenate_1 (Concatenate)    (None, 32, 32, 384)  0           ['batch_normalization_5[0][0]',  \n",
            "                                                                  'leaky_re_lu_2[0][0]']          \n",
            "                                                                                                  \n",
            " leaky_re_lu_6 (LeakyReLU)      (None, 32, 32, 384)  0           ['concatenate_1[0][0]']          \n",
            "                                                                                                  \n",
            " conv2d_transpose_2 (Conv2DTran  (None, 64, 64, 128)  442496     ['leaky_re_lu_6[0][0]']          \n",
            " spose)                                                                                           \n",
            "                                                                                                  \n",
            " batch_normalization_6 (BatchNo  (None, 64, 64, 128)  512        ['conv2d_transpose_2[0][0]']     \n",
            " rmalization)                                                                                     \n",
            "                                                                                                  \n",
            " concatenate_2 (Concatenate)    (None, 64, 64, 192)  0           ['batch_normalization_6[0][0]',  \n",
            "                                                                  'leaky_re_lu_1[0][0]']          \n",
            "                                                                                                  \n",
            " leaky_re_lu_7 (LeakyReLU)      (None, 64, 64, 192)  0           ['concatenate_2[0][0]']          \n",
            "                                                                                                  \n",
            " conv2d_transpose_3 (Conv2DTran  (None, 128, 128, 64  110656     ['leaky_re_lu_7[0][0]']          \n",
            " spose)                         )                                                                 \n",
            "                                                                                                  \n",
            " batch_normalization_7 (BatchNo  (None, 128, 128, 64  256        ['conv2d_transpose_3[0][0]']     \n",
            " rmalization)                   )                                                                 \n",
            "                                                                                                  \n",
            " concatenate_3 (Concatenate)    (None, 128, 128, 12  0           ['batch_normalization_7[0][0]',  \n",
            "                                8)                                'leaky_re_lu[0][0]']            \n",
            "                                                                                                  \n",
            " leaky_re_lu_8 (LeakyReLU)      (None, 128, 128, 12  0           ['concatenate_3[0][0]']          \n",
            "                                8)                                                                \n",
            "                                                                                                  \n",
            " conv2d_transpose_4 (Conv2DTran  (None, 256, 256, 3)  3459       ['leaky_re_lu_8[0][0]']          \n",
            " spose)                                                                                           \n",
            "                                                                                                  \n",
            " activation (Activation)        (None, 256, 256, 3)  0           ['conv2d_transpose_4[0][0]']     \n",
            "                                                                                                  \n",
            "==================================================================================================\n",
            "Total params: 4,510,979\n",
            "Trainable params: 4,507,651\n",
            "Non-trainable params: 3,328\n",
            "__________________________________________________________________________________________________\n"
          ]
        }
      ]
    },
    {
      "cell_type": "markdown",
      "source": [
        "# Build The Discriminator"
      ],
      "metadata": {
        "id": "BmlWxTuJorKb"
      }
    },
    {
      "cell_type": "code",
      "source": [
        "def build_discriminator():\n",
        "  # Define the inputs to the discriminator model\n",
        "  input_source_image = Input(shape=(width, height, 3))\n",
        "  input_target_image = Input(shape=(width, height, 3))\n",
        "\n",
        "  # Concatenate the source and target images\n",
        "  merged = Concatenate()([input_source_image, input_target_image])\n",
        "\n",
        "  # Downsample the concatenated images\n",
        "  x = Conv2D(64, kernel_size=4, strides=2, padding='same')(merged)\n",
        "  x = LeakyReLU(alpha=0.2)(x)\n",
        "  x = Conv2D(128, kernel_size=4, strides=2, padding='same')(x)\n",
        "  x = BatchNormalization()(x)\n",
        "  x = LeakyReLU(alpha=0.2)(x)\n",
        "  x = Conv2D(256, kernel_size=4, strides=2, padding='same')(x)\n",
        "  x = BatchNormalization()(x)\n",
        "  x = LeakyReLU(alpha=0.2)(x)\n",
        "  x = Conv2D(512, kernel_size=4, strides=2, padding='same')(x)\n",
        "  x = BatchNormalization()(x)\n",
        "  x = LeakyReLU(alpha=0.2)(x)\n",
        "\n",
        "  # Flatten and add a dense layer for classification\n",
        "  x = Flatten()(x)\n",
        "  output = Dense(1, activation='sigmoid')(x)\n",
        "\n",
        "  # Create the model with the inputs and output layers\n",
        "  disc_model = Model([input_source_image, input_target_image], outputs= output)\n",
        "\n",
        "  # Compile the model with binary cross-entropy loss and Adam optimizer\n",
        "  discriminator_optimizer = Adam(lr=0.0002, beta_1=0.5)\n",
        "  disc_model.compile(loss='binary_crossentropy', optimizer=discriminator_optimizer, loss_weights=[0.5])\n",
        "  \n",
        "  # Return the discriminator model\n",
        "  return disc_model"
      ],
      "metadata": {
        "id": "Zrt-1FlXAkIg"
      },
      "execution_count": 8,
      "outputs": []
    },
    {
      "cell_type": "code",
      "source": [
        "discriminator = build_discriminator()\n",
        "discriminator.summary()"
      ],
      "metadata": {
        "colab": {
          "base_uri": "https://localhost:8080/"
        },
        "id": "dKFqbvJptGJ6",
        "outputId": "d1899953-1dcd-4e69-e887-3a5d4bb3a327"
      },
      "execution_count": 9,
      "outputs": [
        {
          "output_type": "stream",
          "name": "stderr",
          "text": [
            "WARNING:absl:`lr` is deprecated, please use `learning_rate` instead, or use the legacy optimizer, e.g.,tf.keras.optimizers.legacy.Adam.\n"
          ]
        },
        {
          "output_type": "stream",
          "name": "stdout",
          "text": [
            "Model: \"model_1\"\n",
            "__________________________________________________________________________________________________\n",
            " Layer (type)                   Output Shape         Param #     Connected to                     \n",
            "==================================================================================================\n",
            " input_2 (InputLayer)           [(None, 256, 256, 3  0           []                               \n",
            "                                )]                                                                \n",
            "                                                                                                  \n",
            " input_3 (InputLayer)           [(None, 256, 256, 3  0           []                               \n",
            "                                )]                                                                \n",
            "                                                                                                  \n",
            " concatenate_4 (Concatenate)    (None, 256, 256, 6)  0           ['input_2[0][0]',                \n",
            "                                                                  'input_3[0][0]']                \n",
            "                                                                                                  \n",
            " conv2d_5 (Conv2D)              (None, 128, 128, 64  6208        ['concatenate_4[0][0]']          \n",
            "                                )                                                                 \n",
            "                                                                                                  \n",
            " leaky_re_lu_9 (LeakyReLU)      (None, 128, 128, 64  0           ['conv2d_5[0][0]']               \n",
            "                                )                                                                 \n",
            "                                                                                                  \n",
            " conv2d_6 (Conv2D)              (None, 64, 64, 128)  131200      ['leaky_re_lu_9[0][0]']          \n",
            "                                                                                                  \n",
            " batch_normalization_8 (BatchNo  (None, 64, 64, 128)  512        ['conv2d_6[0][0]']               \n",
            " rmalization)                                                                                     \n",
            "                                                                                                  \n",
            " leaky_re_lu_10 (LeakyReLU)     (None, 64, 64, 128)  0           ['batch_normalization_8[0][0]']  \n",
            "                                                                                                  \n",
            " conv2d_7 (Conv2D)              (None, 32, 32, 256)  524544      ['leaky_re_lu_10[0][0]']         \n",
            "                                                                                                  \n",
            " batch_normalization_9 (BatchNo  (None, 32, 32, 256)  1024       ['conv2d_7[0][0]']               \n",
            " rmalization)                                                                                     \n",
            "                                                                                                  \n",
            " leaky_re_lu_11 (LeakyReLU)     (None, 32, 32, 256)  0           ['batch_normalization_9[0][0]']  \n",
            "                                                                                                  \n",
            " conv2d_8 (Conv2D)              (None, 16, 16, 512)  2097664     ['leaky_re_lu_11[0][0]']         \n",
            "                                                                                                  \n",
            " batch_normalization_10 (BatchN  (None, 16, 16, 512)  2048       ['conv2d_8[0][0]']               \n",
            " ormalization)                                                                                    \n",
            "                                                                                                  \n",
            " leaky_re_lu_12 (LeakyReLU)     (None, 16, 16, 512)  0           ['batch_normalization_10[0][0]'] \n",
            "                                                                                                  \n",
            " flatten (Flatten)              (None, 131072)       0           ['leaky_re_lu_12[0][0]']         \n",
            "                                                                                                  \n",
            " dense (Dense)                  (None, 1)            131073      ['flatten[0][0]']                \n",
            "                                                                                                  \n",
            "==================================================================================================\n",
            "Total params: 2,894,273\n",
            "Trainable params: 2,892,481\n",
            "Non-trainable params: 1,792\n",
            "__________________________________________________________________________________________________\n"
          ]
        }
      ]
    },
    {
      "cell_type": "markdown",
      "source": [
        "# Build Adversarial Network"
      ],
      "metadata": {
        "id": "A-ZEJjvYtH19"
      }
    },
    {
      "cell_type": "code",
      "source": [
        "def build_gan(generator, discriminator):\n",
        "  # Freeze the discriminator\n",
        "  discriminator.trainable = False\n",
        "\n",
        "  # define the input shape\n",
        "  input_source = Input(shape=(width, height, 3))\n",
        "\n",
        "  target_image = generator(input_source)\n",
        "  validity =  discriminator([input_source, target_image])\n",
        "\n",
        "  # Define gan model\n",
        "  gan = Model(inputs=input_source, outputs=[validity, target_image])\n",
        "\n",
        "  # compile GAN\n",
        "  gan_optimizer = Adam(learning_rate=0.0002, beta_1=0.5)\n",
        "  gan.compile(loss=[\"binary_crossentropy\", \"mae\"], optimizer=gan_optimizer, loss_weights=[1,100])\n",
        "  return gan"
      ],
      "metadata": {
        "id": "XnLjplv3tRa2"
      },
      "execution_count": null,
      "outputs": []
    },
    {
      "cell_type": "code",
      "source": [
        "gan_model = build_gan(generator, discriminator)\n",
        "gan_model.summary()"
      ],
      "metadata": {
        "colab": {
          "base_uri": "https://localhost:8080/"
        },
        "id": "u8VW-M1PyKsW",
        "outputId": "538c1826-15ff-43ec-c1c1-a385dee822b3"
      },
      "execution_count": null,
      "outputs": [
        {
          "output_type": "stream",
          "name": "stdout",
          "text": [
            "Model: \"model_2\"\n",
            "__________________________________________________________________________________________________\n",
            " Layer (type)                   Output Shape         Param #     Connected to                     \n",
            "==================================================================================================\n",
            " input_4 (InputLayer)           [(None, 256, 256, 3  0           []                               \n",
            "                                )]                                                                \n",
            "                                                                                                  \n",
            " model (Functional)             (None, 256, 256, 3)  4510979     ['input_4[0][0]']                \n",
            "                                                                                                  \n",
            " model_1 (Functional)           (None, 1)            2894273     ['input_4[0][0]',                \n",
            "                                                                  'model[0][0]']                  \n",
            "                                                                                                  \n",
            "==================================================================================================\n",
            "Total params: 7,405,252\n",
            "Trainable params: 4,507,651\n",
            "Non-trainable params: 2,897,601\n",
            "__________________________________________________________________________________________________\n"
          ]
        }
      ]
    },
    {
      "cell_type": "markdown",
      "source": [
        "# Print Output Images"
      ],
      "metadata": {
        "id": "NDVhrvHAuvPF"
      }
    },
    {
      "cell_type": "code",
      "source": [
        "def print_generated_images(generator_model, test_source_image, test_target_image):\n",
        "  # generate images based on a batch given from test data\n",
        "  generated_image = generator_model(test_source_image, training=True)\n",
        "  \n",
        "  # Define image titles\n",
        "  title = ['Input Image', 'Target Image', 'Generated Image']\n",
        "\n",
        "  # Create a figure with three subplots\n",
        "  fig, (ax1, ax2, ax3) = plt.subplots(1, 3, figsize=(10, 4))\n",
        "  \n",
        "  # print only three images chosen randomly (the first three)\n",
        "  for i in range(3):\n",
        "    # Plot the images on their respective subplots\n",
        "    ax1.imshow(test_source_image[i])\n",
        "    ax2.imshow(test_target_image[i])\n",
        "    ax3.imshow(generated_image[i])\n",
        "\n",
        "    ax1.set_axis_off()\n",
        "    ax2.set_axis_off()\n",
        "    ax3.set_axis_off()\n",
        "  \n",
        "    # Add the titles to each subplot\n",
        "    ax1.set_title(title[0])\n",
        "    ax2.set_title(title[1])\n",
        "    ax3.set_title(title[2])\n",
        "    # Show the plot\n",
        "    plt.show()"
      ],
      "metadata": {
        "id": "ymowzs-ZuyUK"
      },
      "execution_count": null,
      "outputs": []
    },
    {
      "cell_type": "markdown",
      "source": [
        "# Custom Training Loop"
      ],
      "metadata": {
        "id": "PyRIqiSDwn47"
      }
    },
    {
      "cell_type": "markdown",
      "source": [
        "The image to image generation model is big and complex, so it requires muych time to be trained even if on GPU. For this reason model checkpoint is defined to sabe the generator, discriminator, and GAN models with their updated weights after each epoch. This will help to complete trainung from the last epoch in case if the training stopped. This will allow this model to run on machine with less computations and after each time all memory is used the training is stopped and can be completed from the last run. In addition it will help saving the model such that at any time one can see the generated images without the need to retrain the model again."
      ],
      "metadata": {
        "id": "wZDQsjJFRXa1"
      }
    },
    {
      "cell_type": "markdown",
      "source": [
        "## Define check point"
      ],
      "metadata": {
        "id": "O2FcmTejSPHD"
      }
    },
    {
      "cell_type": "code",
      "source": [
        "# Load google drive to save model checkpoints\n",
        "drive.mount('/content/drive')\n",
        "\n",
        "# define the checkpoint\n",
        "discriminator_optimizer = Adam(learning_rate=0.0002, beta_1=0.5)\n",
        "gan_optimizer = Adam(learning_rate=0.0002, beta_1=0.5)\n",
        "checkpoint_dir = '/content/drive/MyDrive'\n",
        "checkpoint_prefix = os.path.join(checkpoint_dir, \"ckpt\")\n",
        "checkpoint = tf.train.Checkpoint(discriminator_opt=discriminator_optimizer,\n",
        "                                 gan_opt=gan_optimizer,\n",
        "                                 generator=generator,\n",
        "                                 discriminator=discriminator,\n",
        "                                 GAN = gan_model\n",
        "                                 )\n",
        "# restore last checkpoint saved\n",
        "checkpoint.restore(tf.train.latest_checkpoint(checkpoint_dir))\n"
      ],
      "metadata": {
        "id": "iy4kXx4R35fp"
      },
      "execution_count": null,
      "outputs": []
    },
    {
      "cell_type": "markdown",
      "source": [
        "## Custom training loop"
      ],
      "metadata": {
        "id": "A_ZLnBmoSlY7"
      }
    },
    {
      "cell_type": "code",
      "source": [
        "def training(generator, discriminator, gan, epochs, batch_size):\n",
        "    # to set the batch size\n",
        "    steps = len(image_data_source) // batch_size\n",
        "\n",
        "    # enumerate over epochs\n",
        "    for e in range(epochs):\n",
        "        # enumerate batches over the training data\n",
        "        for b in range(steps):\n",
        "            # create source batch images\n",
        "            random_batch_index = np.random.randint(0, len(image_data_source), size = batch_size)\n",
        "            source_images = [image_data_source[i] for i in random_batch_index]\n",
        "            # source_images = source_images.reshape((batch_size, width, height, 3))\n",
        "            reshaped_source_images = tf.reshape(source_images, (batch_size, width, height, 3))\n",
        "\n",
        "            # create target batch images\n",
        "            target_images = [image_data_target[i] for i in random_batch_index]\n",
        "            # target_images = target_images.reshape((batch_size, width, height, 3))\n",
        "            reshaped_target_images = tf.reshape(target_images, (batch_size, width, height, 3))\n",
        "\n",
        "            # create fake images by the generator\n",
        "            fake_target_images = generator.predict(reshaped_source_images)\n",
        "\n",
        "\n",
        "            # generate fake labels generated images as zeros\n",
        "            fake_labels = np.zeros([batch_size, 1])\n",
        "            # generate real labels for real data as ones\n",
        "            real_labels = np.ones([batch_size, 1])*0.9\n",
        "\n",
        "            # Calculate the loss of real data points\n",
        "            discriminator_loss_real = discriminator.train_on_batch([reshaped_source_images, reshaped_target_images], real_labels)\n",
        "            # Calculate the loss of generated data points\n",
        "            discriminator_loss_fake = discriminator.train_on_batch([reshaped_source_images, fake_target_images], fake_labels)\n",
        "            # Compute total discriminator loss\n",
        "            discriminator_loss = 0.5 * np.add(discriminator_loss_real, discriminator_loss_fake)\n",
        "\n",
        "            # calculate the generator loss\n",
        "            indices = np.random.randint(0, len(image_data_source), size=batch_size)\n",
        "            source_images = [image_data_source[i] for i in indices]\n",
        "            reshaped_source_images = np.reshape(source_images, (batch_size, width, height, 3))\n",
        "            target_images = [image_data_target[i] for i in indices]\n",
        "            reshaped_target_images = np.reshape(target_images, (batch_size, width, height, 3))\n",
        "            y_gan = np.ones((batch_size, 1))\n",
        "            generator_loss, _, _ = gan.train_on_batch(reshaped_source_images, [y_gan, reshaped_target_images])\n",
        "\n",
        "            # if the remainder of dividing current epoch number by 10 equal to 0 print the following image\n",
        "            if e % 10 == 0:\n",
        "                print('Epoch: ', e, ' Generator Loss: ', generator_loss, ' Discriminator Loss: ', discriminator_loss)\n",
        "\n",
        "        if e% 1 == 0 :\n",
        "          ckpt_manager = tf.train.CheckpointManager(checkpoint, checkpoint_dir, max_to_keep=5)\n",
        "          k = e\n",
        "          ckpt_manager.save(checkpoint_number=k)\n",
        "        # if this is the last ephoch print the generated images\n",
        "        if e % 10 == 0 or e == epochs-1:\n",
        "            test_indices = np.random.randint(0, len(image_data_source_test), size = batch_size//2)\n",
        "            test_source = [image_data_source_test[i] for i in test_indices]\n",
        "            reshaped_source_test = tf.reshape(test_source, (batch_size//2, width, height, 3))\n",
        "            test_target = [image_data_target_test[i] for i in test_indices]\n",
        "            reshaped_target_test = tf.reshape(test_target, (batch_size//2, width, height, 3))\n",
        "            print_generated_images(generator, reshaped_source_test, reshaped_target_test)"
      ],
      "metadata": {
        "id": "NqfvdQUxwqZm"
      },
      "execution_count": null,
      "outputs": []
    },
    {
      "cell_type": "markdown",
      "source": [
        "# Call Training Loop"
      ],
      "metadata": {
        "id": "KRxYnFd87rUy"
      }
    },
    {
      "cell_type": "code",
      "source": [
        "training(generator, discriminator, gan_model, 10000, 128) "
      ],
      "metadata": {
        "id": "asCSIEe57u99"
      },
      "execution_count": 9,
      "outputs": []
    }
  ]
}
